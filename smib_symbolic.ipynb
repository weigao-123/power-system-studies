{
 "cells": [
  {
   "cell_type": "markdown",
   "metadata": {},
   "source": [
    "Example of how to do linearization of nonlinear system at operating point, using sympy symbolic library\n",
    "The example is a synchronous machine to infinity bus in power grid\n",
    "\n",
    "Where\n",
    "- internal voltage E = 1.04 pu\n",
    "- infinity bus voltage V = 1 pu, theta = 0 rad\n",
    "- machine inertia H = 10 s\n",
    "- machine damping D = 0.5 pu\n",
    "- machine reactance Xd = 0.3 pu\n",
    "- power angle delta_0 = 0.3535 rad (equilibrium)\n",
    "- rotor speed omega_0 = omega_s (synchronous speed) = 2\\*pi\\*60 rad/s"
   ]
  },
  {
   "cell_type": "code",
   "execution_count": 1,
   "metadata": {},
   "outputs": [],
   "source": [
    "import sympy as sp\n",
    "from sympy import init_printing\n",
    "\n",
    "init_printing()\n"
   ]
  },
  {
   "cell_type": "code",
   "execution_count": 2,
   "metadata": {},
   "outputs": [
    {
     "data": {
      "image/png": "[encoded data removed]",
      "text/latex": [
       "$\\displaystyle \\left[\\begin{matrix}\\frac{d}{d t} \\delta{\\left(t \\right)}\\\\\\frac{d}{d t} \\omega{\\left(t \\right)}\\end{matrix}\\right] = \\left[\\begin{matrix}- \\omega_{s} + \\omega{\\left(t \\right)}\\\\\\frac{\\omega_{s} \\left(- D \\left(- \\omega_{s} + \\omega{\\left(t \\right)}\\right) - \\frac{E V \\sin{\\left(\\delta{\\left(t \\right)} \\right)}}{X_{d}} + Pm\\right)}{2 H}\\end{matrix}\\right]$"
      ],
      "text/plain": [
       "⎡d       ⎤   ⎡               -ωₛ + ω(t)                ⎤\n",
       "⎢──(δ(t))⎥   ⎢                                         ⎥\n",
       "⎢dt      ⎥   ⎢   ⎛                  E⋅V⋅sin(δ(t))     ⎞⎥\n",
       "⎢        ⎥ = ⎢ωₛ⋅⎜-D⋅(-ωₛ + ω(t)) - ───────────── + Pm⎟⎥\n",
       "⎢d       ⎥   ⎢   ⎝                       X_d          ⎠⎥\n",
       "⎢──(ω(t))⎥   ⎢─────────────────────────────────────────⎥\n",
       "⎣dt      ⎦   ⎣                   2⋅H                   ⎦"
      ]
     },
     "execution_count": 2,
     "metadata": {},
     "output_type": "execute_result"
    }
   ],
   "source": [
    "# Define symbols\n",
    "E, V, X_d, H, D, Pm, omega_s, t = sp.symbols('E, V, X_d, H, D, Pm, omega_s, t')\n",
    "\n",
    "delta, omega, Pe = sp.symbols('delta, omega, Pe', cls=sp.Function)\n",
    "\n",
    "# Define the swing equation\n",
    "eq1 = sp.Eq(delta(t).diff(t), omega(t) - omega_s)\n",
    "eq2 = sp.Eq(omega(t).diff(t), omega_s / (2 * H) * (Pm - Pe(delta(t)) - D * (omega(t) - omega_s)))\n",
    "\n",
    "# Represent state space equations\n",
    "x = sp.Matrix([delta(t), omega(t)])\n",
    "f = sp.Matrix([eq1.rhs, eq2.rhs])\n",
    "\n",
    "# Create the vector equation\n",
    "eqs = sp.Eq(x.diff(t), f)\n",
    "\n",
    "# Print the vector equation\n",
    "eqs\n",
    "\n",
    "eqs = eqs.subs(\n",
    "  {\n",
    "    Pe(delta(t)): E * V * sp.sin(delta(t)) / X_d,\n",
    "  }\n",
    ")\n",
    "\n",
    "eqs"
   ]
  },
  {
   "cell_type": "markdown",
   "metadata": {},
   "source": [
    "Now, the linearization for a nonlineary system is just calculate the Jacobian matrix\n",
    "\n",
    "And, to obtain the equilibrium, we let the derivtive of the states as zero, and solve the equations"
   ]
  },
  {
   "cell_type": "code",
   "execution_count": 3,
   "metadata": {},
   "outputs": [
    {
     "data": {
      "image/png": "[encoded data removed]",
      "text/latex": [
       "$\\displaystyle \\left[\\begin{matrix}0 & 1\\\\- 20.8 \\pi \\cos{\\left(\\delta_{0} \\right)} & - 3.0 \\pi\\end{matrix}\\right]$"
      ],
      "text/plain": [
       "⎡       0           1   ⎤\n",
       "⎢                       ⎥\n",
       "⎣-20.8⋅π⋅cos(δ₀)  -3.0⋅π⎦"
      ]
     },
     "execution_count": 3,
     "metadata": {},
     "output_type": "execute_result"
    }
   ],
   "source": [
    "# Calculate the Jacobian matrix\n",
    "J = eqs.rhs.jacobian(x)\n",
    "\n",
    "J = J.subs(\n",
    "  {\n",
    "    E: 1.04,\n",
    "    V: 1,\n",
    "    X_d: 0.3,\n",
    "    H: 10,\n",
    "    D: 0.5,\n",
    "    Pm: 1.2,\n",
    "    omega_s: 2*sp.pi*60,\n",
    "  }\n",
    ")\n",
    "\n",
    "# Solve for the equilibrium point\n",
    "delta_0, omega_0 = sp.symbols('delta_0 omega_0')\n",
    "eq_point = {delta(t): delta_0, omega(t): omega_0}\n",
    "eq_equations = [eq.subs(eq_point) for eq in eqs.rhs]\n",
    "\n",
    "# Substitute the equilibrium point into the Jacobian\n",
    "J_eq = J.subs(eq_point)\n",
    "\n",
    "J_eq"
   ]
  },
  {
   "cell_type": "code",
   "execution_count": 4,
   "metadata": {},
   "outputs": [
    {
     "data": {
      "image/png": "[encoded data removed]",
      "text/latex": [
       "$\\displaystyle \\left[ \\left( \\pi - \\operatorname{asin}{\\left(\\frac{Pm X_{d}}{E V} \\right)}, \\  \\omega_{s}\\right), \\  \\left( \\operatorname{asin}{\\left(\\frac{Pm X_{d}}{E V} \\right)}, \\  \\omega_{s}\\right)\\right]$"
      ],
      "text/plain": [
       "⎡⎛        ⎛Pm⋅X_d⎞    ⎞  ⎛    ⎛Pm⋅X_d⎞    ⎞⎤\n",
       "⎢⎜π - asin⎜──────⎟, ωₛ⎟, ⎜asin⎜──────⎟, ωₛ⎟⎥\n",
       "⎣⎝        ⎝ E⋅V  ⎠    ⎠  ⎝    ⎝ E⋅V  ⎠    ⎠⎦"
      ]
     },
     "execution_count": 4,
     "metadata": {},
     "output_type": "execute_result"
    }
   ],
   "source": [
    "# Solve the equilibrium equations\n",
    "equilibrium_solution = sp.solve(eq_equations, (delta_0, omega_0))\n",
    "\n",
    "equilibrium_solution\n"
   ]
  },
  {
   "cell_type": "markdown",
   "metadata": {},
   "source": [
    "We have two equilibrium points, and we now assign some parameters for the system to get the final numerical value:\n",
    "\n",
    "We will explore both equilibrium points, and calculate the eigenvalues for each equilibrium point to see if this equilibrium point is stable or not."
   ]
  },
  {
   "cell_type": "code",
   "execution_count": 5,
   "metadata": {},
   "outputs": [
    {
     "name": "stdout",
     "output_type": "stream",
     "text": [
      "Eigenvalues for equilibrium point 1: {4.42609859416020: 1, -13.8508765549296: 1}\n",
      "Eigenvalues for equilibrium point 2: {-4.71238898038469 - 6.25289815567224*I: 1, -4.71238898038469 + 6.25289815567224*I: 1}\n"
     ]
    }
   ],
   "source": [
    "params = {\n",
    "  E: 1.04,\n",
    "  V: 1,\n",
    "  X_d: 0.3,\n",
    "  H: 10,\n",
    "  D: 0.5,\n",
    "  Pm: 1.2,\n",
    "  omega_s: 2*sp.pi*60,\n",
    "}\n",
    "\n",
    "# stable_equilibrium_solution = {\n",
    "#   delta_0: 0.3535,\n",
    "#   omega_0: 2*sp.pi*60,\n",
    "# }\n",
    "\n",
    "equilibrium_solution1 = {\n",
    "  delta_0: equilibrium_solution[0][0],\n",
    "  omega_0: equilibrium_solution[0][1],\n",
    "}\n",
    "\n",
    "# Eigenvalues\n",
    "eigvals1 = J_eq.subs(equilibrium_solution1).subs(params).eigenvals()\n",
    "\n",
    "equilibrium_solution2 = {\n",
    "  delta_0: equilibrium_solution[1][0],\n",
    "  omega_0: equilibrium_solution[1][1],\n",
    "}\n",
    "\n",
    "eigvals2 = J_eq.subs(equilibrium_solution2).subs(params).eigenvals()\n",
    "\n",
    "print(f\"Eigenvalues for equilibrium point 1: {eigvals1}\")\n",
    "print(f\"Eigenvalues for equilibrium point 2: {eigvals2}\")\n"
   ]
  },
  {
   "cell_type": "markdown",
   "metadata": {},
   "source": [
    "We can see that\n",
    "\n",
    "the equilibrium point 1 gives eigenvalues with one in the left plane (stable), one in the right plane (unstable), thus unstable\n",
    "\n",
    "the equilibrium point 1 gives eigenvalues with both in the left plane (stable), thus unstable\n"
   ]
  },
  {
   "cell_type": "code",
   "execution_count": null,
   "metadata": {},
   "outputs": [],
   "source": []
  }
 ],
 "metadata": {
  "kernelspec": {
   "display_name": "common",
   "language": "python",
   "name": "python3"
  },
  "language_info": {
   "codemirror_mode": {
    "name": "ipython",
    "version": 3
   },
   "file_extension": ".py",
   "mimetype": "text/x-python",
   "name": "python",
   "nbconvert_exporter": "python",
   "pygments_lexer": "ipython3",
   "version": "3.12.5"
  }
 },
 "nbformat": 4,
 "nbformat_minor": 2
}
